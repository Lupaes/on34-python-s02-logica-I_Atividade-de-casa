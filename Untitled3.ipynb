{
  "nbformat": 4,
  "nbformat_minor": 0,
  "metadata": {
    "colab": {
      "provenance": [],
      "authorship_tag": "ABX9TyNzSfZffFbb3sFgFQfWBe7E",
      "include_colab_link": true
    },
    "kernelspec": {
      "name": "python3",
      "display_name": "Python 3"
    },
    "language_info": {
      "name": "python"
    }
  },
  "cells": [
    {
      "cell_type": "markdown",
      "metadata": {
        "id": "view-in-github",
        "colab_type": "text"
      },
      "source": [
        "<a href=\"https://colab.research.google.com/github/Lupaes/on34-python-s02-logica-I_Atividade-de-casa/blob/main/Untitled3.ipynb\" target=\"_parent\"><img src=\"https://colab.research.google.com/assets/colab-badge.svg\" alt=\"Open In Colab\"/></a>"
      ]
    },
    {
      "cell_type": "markdown",
      "source": [],
      "metadata": {
        "id": "66g8uAuZkJPp"
      }
    },
    {
      "cell_type": "code",
      "source": [
        "numero1 = 3\n",
        "numero2 = 2\n",
        "soma = numero1+numero2\n",
        "print(soma)\n",
        "print(\"soma é: \", type(soma))\n",
        "total = soma % 2\n",
        "print(\"total é: \", type(total))\n",
        "\n",
        "if total == 0:\n",
        "  print(\"soma é PAR\".format(soma))\n",
        "else:\n",
        "  print(\"soma é IMPAR\".format(soma))"
      ],
      "metadata": {
        "colab": {
          "base_uri": "https://localhost:8080/"
        },
        "id": "341aLlWrkJz9",
        "outputId": "2716c1af-4e1b-42fa-b2a0-f2018b388378"
      },
      "execution_count": 45,
      "outputs": [
        {
          "output_type": "stream",
          "name": "stdout",
          "text": [
            "5\n",
            "soma é:  <class 'int'>\n",
            "total é:  <class 'int'>\n",
            "soma é IMPAR\n"
          ]
        }
      ]
    },
    {
      "cell_type": "code",
      "source": [
        "numero1 = 3\n",
        "numero2 = 2\n",
        "subtracao = numero1-numero2\n",
        "print(subtracao)\n",
        "print(\"subtracao é: \", type(subtracao))\n",
        "total = subtracao % 2\n",
        "print(\"total é: \", type(total))\n",
        "\n",
        "if total == 0:\n",
        "  print(\"subtracao é PAR\".format(subtracao))\n",
        "else:\n",
        "  print(\"subtracao é IMPAR\".format(subtracao))"
      ],
      "metadata": {
        "colab": {
          "base_uri": "https://localhost:8080/"
        },
        "id": "jGkCEIZDzsS7",
        "outputId": "6abe525c-21f9-4330-b568-e74285a3b3bf"
      },
      "execution_count": 46,
      "outputs": [
        {
          "output_type": "stream",
          "name": "stdout",
          "text": [
            "1\n",
            "subtracao é:  <class 'int'>\n",
            "total é:  <class 'int'>\n",
            "subtracao é IMPAR\n"
          ]
        }
      ]
    },
    {
      "cell_type": "code",
      "source": [
        "numero1 = 3\n",
        "numero2 = 2\n",
        "multiplicacao = numero1*numero2\n",
        "print(multiplicacao)\n",
        "print(\"multiplicacao é: \", type(multiplicacao))\n",
        "total = multiplicacao % 2\n",
        "print(\"total é: \", type(total))\n",
        "\n",
        "if total == 0:\n",
        "  print(\"multiplicacao é PAR\".format(multiplicacao))\n",
        "else:\n",
        "  print(\"multiplicacao é IMPAR\".format(multiplicacao))"
      ],
      "metadata": {
        "colab": {
          "base_uri": "https://localhost:8080/"
        },
        "id": "9sZ894AT094N",
        "outputId": "1906d162-65fa-4c8a-b737-fd3c04e9a902"
      },
      "execution_count": 48,
      "outputs": [
        {
          "output_type": "stream",
          "name": "stdout",
          "text": [
            "6\n",
            "multiplicacao é:  <class 'int'>\n",
            "total é:  <class 'int'>\n",
            "multiplicacao é PAR\n"
          ]
        }
      ]
    },
    {
      "cell_type": "code",
      "source": [
        "numero1 = 3\n",
        "numero2 = 2\n",
        "divisao = numero1/numero2\n",
        "print(divisao)\n",
        "print(\"divisao é: \", type(divisao))\n",
        "total = divisao % 2\n",
        "print(\"total é: \", type(total))\n",
        "\n",
        "if total == 0:\n",
        "  print(\"divisao é PAR\".format(divisao))\n",
        "else:\n",
        "  print(\"divisao é IMPAR\".format(divisao))"
      ],
      "metadata": {
        "colab": {
          "base_uri": "https://localhost:8080/"
        },
        "id": "dtOBP_RQ2PFX",
        "outputId": "e459f04e-209f-4d65-9f4b-ba1c439bdd07"
      },
      "execution_count": 49,
      "outputs": [
        {
          "output_type": "stream",
          "name": "stdout",
          "text": [
            "1.5\n",
            "divisao é:  <class 'float'>\n",
            "total é:  <class 'float'>\n",
            "divisao é IMPAR\n"
          ]
        }
      ]
    },
    {
      "cell_type": "code",
      "source": [
        "numero1 = 3\n",
        "numero2 = 2\n",
        "potenciação = numero1**numero2\n",
        "print(potenciação)\n",
        "print(\"potenciação é: \", type(potenciação))\n",
        "total = potenciação % 2\n",
        "print(\"total é: \", type(total))\n",
        "\n",
        "if total == 0:\n",
        "  print(\"potenciação é PAR\".format(potenciação))\n",
        "else:\n",
        "  print(\"potenciação é IMPAR\".format(potenciação))"
      ],
      "metadata": {
        "colab": {
          "base_uri": "https://localhost:8080/"
        },
        "id": "i1TX87MF2xKV",
        "outputId": "a8c2ba27-ea14-4413-c75b-de8d4f1dd913"
      },
      "execution_count": 50,
      "outputs": [
        {
          "output_type": "stream",
          "name": "stdout",
          "text": [
            "9\n",
            "potenciação é:  <class 'int'>\n",
            "total é:  <class 'int'>\n",
            "potenciação é IMPAR\n"
          ]
        }
      ]
    }
  ]
}